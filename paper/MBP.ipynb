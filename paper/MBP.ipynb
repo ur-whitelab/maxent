{
 "cells": [
  {
   "cell_type": "markdown",
   "id": "2e71345f",
   "metadata": {},
   "source": [
    "## MBP Protein NMR Example"
   ]
  },
  {
   "cell_type": "code",
   "execution_count": null,
   "id": "cf7e046f",
   "metadata": {},
   "outputs": [],
   "source": [
    "import pandas as pd\n",
    "import numpy as np\n",
    "import matplotlib.pyplot as plt\n",
    "import seaborn as sns\n",
    "import tensorflow as tf\n",
    "import maxent\n",
    "\n",
    "sns.set_context(\"paper\")\n",
    "sns.set_style(\n",
    "    \"whitegrid\",\n",
    "    {\n",
    "        \"xtick.bottom\": True,\n",
    "        \"ytick.left\": True,\n",
    "        \"xtick.color\": \"#333333\",\n",
    "        \"ytick.color\": \"#333333\",\n",
    "    },\n",
    ")\n",
    "# plt.rcParams[\"font.family\"] = \"serif\"\n",
    "plt.rcParams[\"mathtext.fontset\"] = \"dejavuserif\"\n",
    "colors = [\"#1b9e77\", \"#d95f02\", \"#7570b3\", \"#e7298a\", \"#66a61e\"]\n",
    "import pynmrstar\n",
    "from functools import partialmethod\n",
    "from tqdm import tqdm\n",
    "\n",
    "tqdm.__init__ = partialmethod(tqdm.__init__, disable=True)"
   ]
  },
  {
   "cell_type": "code",
   "execution_count": null,
   "id": "154e7ea9",
   "metadata": {},
   "outputs": [],
   "source": [
    "# load data from brmrb\n",
    "bmrb = pynmrstar.Entry.from_database(20062, convert_data_types=True)\n",
    "cs_result_sets = []\n",
    "for chemical_shift_loop in bmrb.get_loops_by_category(\"Atom_chem_shift\"):\n",
    "    cs_result_sets.append(\n",
    "        chemical_shift_loop.get_tag(\n",
    "            [\"Comp_index_ID\", \"Comp_ID\", \"Atom_ID\", \"Atom_type\", \"Val\", \"Val_err\"]\n",
    "        )\n",
    "    )\n",
    "ref_data = pd.DataFrame(\n",
    "    cs_result_sets[0], columns=[\"id\", \"res\", \"atom\", \"type\", \"shift\", \"error\"]\n",
    ")\n",
    "\n",
    "ref_resids = ref_data[ref_data.atom == \"H\"].id.values\n",
    "ref_data[ref_data.atom == \"H\"].head(25)"
   ]
  },
  {
   "cell_type": "code",
   "execution_count": null,
   "id": "3c30d90b",
   "metadata": {},
   "outputs": [],
   "source": [
    "HAVE_MD_FILE = False\n",
    "\n",
    "ref_hdata = ref_data[ref_data.atom == \"H\"]\n",
    "# cut GLU because proton type mismatch\n",
    "ref_hdata = ref_hdata[\"shift\"].values[1:].astype(float)\n",
    "resnames = ref_data[ref_data.atom == \"H\"].res[1:]\n",
    "if HAVE_MD_FILE:\n",
    "    data = pd.read_csv(\"./cs.csv\")\n",
    "    data.head(10)\n",
    "    # only need weights, so we extract only shifts that will be biased\n",
    "    hdata_df = data[data.names == \"HN\"]\n",
    "    hdata_df = hdata_df[hdata_df[\"resids\"].isin(ref_resids)]\n",
    "    hdata_c = hdata_df.confident.values.reshape(len(data.frame.unique()), -1)\n",
    "    hdata = hdata_df.peaks.values.reshape(len(data.frame.unique()), -1)\n",
    "    assert hdata.shape[-1] == ref_hdata.shape[0]\n",
    "    np.savez(\"mbp_files/mbp_cs.npz\", hdata=hdata, hdata_c=hdata_c)\n",
    "data = np.load(\"mbp_files/mbp_cs.npz\")\n",
    "hdata, hdata_c = data[\"hdata\"], data[\"hdata_c\"]"
   ]
  },
  {
   "cell_type": "code",
   "execution_count": null,
   "id": "2dda8568",
   "metadata": {},
   "outputs": [],
   "source": [
    "plt.plot(np.mean(hdata, axis=0), \"o-\")\n",
    "plt.plot(ref_hdata, \"o-\")\n",
    "plt.show()"
   ]
  },
  {
   "cell_type": "code",
   "execution_count": null,
   "id": "5b840e7b",
   "metadata": {},
   "outputs": [],
   "source": [
    "# fill in unconfident peaks with mean\n",
    "hdata_m = np.sum(hdata * hdata_c, axis=0) / np.sum(hdata_c, axis=0)\n",
    "total_fill = 0\n",
    "for i in range(hdata.shape[1]):\n",
    "    hdata[:, i][~hdata_c[:, i]] = hdata_m[i]\n",
    "    total_fill += np.sum(~hdata_c[:, i])\n",
    "print(\"Filled\", total_fill)"
   ]
  },
  {
   "cell_type": "code",
   "execution_count": null,
   "id": "f2accfa3",
   "metadata": {},
   "outputs": [],
   "source": [
    "plt.plot(np.mean(hdata, axis=0), \"o-\")\n",
    "plt.plot(ref_hdata, \"o-\")\n",
    "plt.show()"
   ]
  },
  {
   "cell_type": "code",
   "execution_count": null,
   "id": "b4f98fe8",
   "metadata": {},
   "outputs": [],
   "source": [
    "# make restraints\n",
    "restraints = []\n",
    "do_restrain = range(len(ref_hdata) // 2)\n",
    "for i in do_restrain:\n",
    "    restraints.append(\n",
    "        maxent.Restraint(lambda h, i=i: h[i], ref_hdata[i], prior=maxent.Laplace(0.05))\n",
    "    )"
   ]
  },
  {
   "cell_type": "code",
   "execution_count": null,
   "id": "273827bb",
   "metadata": {},
   "outputs": [],
   "source": [
    "model = maxent.MaxentModel(restraints)\n",
    "model.compile(tf.keras.optimizers.Adam(0.1), \"mean_squared_error\")\n",
    "history = model.fit(hdata, epochs=500, verbose=0)"
   ]
  },
  {
   "cell_type": "code",
   "execution_count": null,
   "id": "1938a4f8",
   "metadata": {
    "scrolled": true
   },
   "outputs": [],
   "source": [
    "plt.plot(history.history[\"loss\"])\n",
    "print(history.history[\"loss\"][-1])"
   ]
  },
  {
   "cell_type": "code",
   "execution_count": null,
   "id": "54f99247",
   "metadata": {},
   "outputs": [],
   "source": [
    "np.mean(np.abs(np.sum(hdata * model.traj_weights[..., np.newaxis], axis=0) - ref_hdata))"
   ]
  },
  {
   "cell_type": "code",
   "execution_count": null,
   "id": "981888b8",
   "metadata": {},
   "outputs": [],
   "source": [
    "model.lambdas"
   ]
  },
  {
   "cell_type": "code",
   "execution_count": null,
   "id": "8c14e63f",
   "metadata": {},
   "outputs": [],
   "source": [
    "plt.plot(model.traj_weights)"
   ]
  },
  {
   "cell_type": "code",
   "execution_count": null,
   "id": "931e9e71",
   "metadata": {},
   "outputs": [],
   "source": [
    "plt.figure(figsize=(3, 2), dpi=300)\n",
    "seq_dict = {\n",
    "    \"CYS\": \"C\",\n",
    "    \"ASP\": \"D\",\n",
    "    \"SER\": \"S\",\n",
    "    \"GLN\": \"Q\",\n",
    "    \"LYS\": \"K\",\n",
    "    \"ILE\": \"I\",\n",
    "    \"PRO\": \"P\",\n",
    "    \"THR\": \"T\",\n",
    "    \"PHE\": \"F\",\n",
    "    \"ASN\": \"N\",\n",
    "    \"GLY\": \"G\",\n",
    "    \"HIS\": \"H\",\n",
    "    \"LEU\": \"L\",\n",
    "    \"ARG\": \"R\",\n",
    "    \"TRP\": \"W\",\n",
    "    \"ALA\": \"A\",\n",
    "    \"VAL\": \"V\",\n",
    "    \"GLU\": \"E\",\n",
    "    \"TYR\": \"Y\",\n",
    "    \"MET\": \"M\",\n",
    "}\n",
    "plt.plot(\n",
    "    np.sum(hdata * model.traj_weights[..., np.newaxis], axis=0), \"o-\", label=\"Posterior\"\n",
    ")\n",
    "plt.plot(np.mean(hdata, axis=0), \"o-\", label=\"Prior\")\n",
    "plt.plot(ref_hdata, \"*\", label=\"Experiment\")\n",
    "plt.axvline(x=len(ref_hdata) // 2 - 0.5, color=\"gray\", linestyle=\"--\")\n",
    "plt.xticks(range(len(ref_hdata)), [seq_dict[r] for r in resnames])\n",
    "plt.legend(loc=\"center left\", bbox_to_anchor=(1.0, 0.8))\n",
    "plt.text(len(ref_hdata) // 5, 8.55, \"Biased\")\n",
    "plt.text(len(ref_hdata) // 2, 8.55, \"Unbiased\")\n",
    "plt.xlabel(\"Sequence\")\n",
    "plt.ylabel(\"Chemical Shift [ppm]\")\n",
    "plt.savefig(\"protein.pdf\")"
   ]
  },
  {
   "cell_type": "code",
   "execution_count": null,
   "id": "d0d608ca",
   "metadata": {},
   "outputs": [],
   "source": [
    "print(\"most favored clusters\", np.argsort(model.traj_weights)[-3:])"
   ]
  }
 ],
 "metadata": {
  "kernelspec": {
   "display_name": "Python 3",
   "language": "python",
   "name": "python3"
  },
  "language_info": {
   "codemirror_mode": {
    "name": "ipython",
    "version": 3
   },
   "file_extension": ".py",
   "mimetype": "text/x-python",
   "name": "python",
   "nbconvert_exporter": "python",
   "pygments_lexer": "ipython3",
   "version": "3.8.3"
  }
 },
 "nbformat": 4,
 "nbformat_minor": 5
}
